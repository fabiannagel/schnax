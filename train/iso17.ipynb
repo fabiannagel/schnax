{
  "nbformat": 4,
  "nbformat_minor": 0,
  "metadata": {
    "colab": {
      "name": "iso17.ipynb",
      "provenance": [],
      "collapsed_sections": []
    },
    "kernelspec": {
      "name": "python3",
      "display_name": "Python 3"
    },
    "language_info": {
      "name": "python"
    }
  },
  "cells": [
    {
      "cell_type": "code",
      "execution_count": 2,
      "metadata": {
        "colab": {
          "base_uri": "https://localhost:8080/"
        },
        "id": "gN4EFP-t-ODL",
        "outputId": "a8e93321-0779-4b5b-896b-c9d19b7804c6"
      },
      "outputs": [
        {
          "output_type": "stream",
          "name": "stdout",
          "text": [
            "--2022-04-05 13:46:45--  http://quantum-machine.org/datasets/iso17.tar.gz\n",
            "Resolving quantum-machine.org (quantum-machine.org)... 130.149.80.145\n",
            "Connecting to quantum-machine.org (quantum-machine.org)|130.149.80.145|:80... connected.\n",
            "HTTP request sent, awaiting response... 200 OK\n",
            "Length: 799712882 (763M) [application/x-gzip]\n",
            "Saving to: ‘train/data/iso17/iso17.tar.gz’\n",
            "\n",
            "iso17.tar.gz        100%[===================>] 762.67M  30.4MB/s    in 26s     \n",
            "\n",
            "2022-04-05 13:47:12 (29.3 MB/s) - ‘train/data/iso17/iso17.tar.gz’ saved [799712882/799712882]\n",
            "\n",
            "tar (child): iso17.tar.gz: Cannot open: No such file or directory\n",
            "tar (child): Error is not recoverable: exiting now\n",
            "tar: Child returned status 2\n",
            "tar: Error is not recoverable: exiting now\n"
          ]
        }
      ],
      "source": [
        "!mkdir -p train/data/iso17\n",
        "!wget http://quantum-machine.org/datasets/iso17.tar.gz -P train/data/iso17\n",
        "!tar xzvf train/data/iso17/iso17.tar.gz"
      ]
    },
    {
      "cell_type": "code",
      "source": [
        "!tar xzvf train/data/iso17/iso17.tar.gz"
      ],
      "metadata": {
        "colab": {
          "base_uri": "https://localhost:8080/"
        },
        "id": "l5saGKlA-3X_",
        "outputId": "6b647591-cc23-4409-eb9c-d1edd417bb5a"
      },
      "execution_count": 12,
      "outputs": [
        {
          "output_type": "stream",
          "name": "stdout",
          "text": [
            "iso17/reference.db\n",
            "iso17/train_ids.txt\n",
            "iso17/validation_ids.txt\n",
            "iso17/\n",
            "iso17/test_other.db\n",
            "iso17/test_within.db\n",
            "iso17/README\n",
            "iso17/reference_eq.db\n",
            "iso17/test_eq.db\n"
          ]
        }
      ]
    },
    {
      "cell_type": "code",
      "source": [
        ""
      ],
      "metadata": {
        "id": "29mXldA6-_Wg"
      },
      "execution_count": null,
      "outputs": []
    }
  ]
}